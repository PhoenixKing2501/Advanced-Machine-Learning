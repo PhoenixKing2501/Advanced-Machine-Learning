{
 "cells": [
  {
   "cell_type": "markdown",
   "metadata": {},
   "source": [
    "Given:\n",
    "$$x = \\{x_1,x_2,\\cdots,x_d\\}$$\n",
    "$$P(x) = \\frac{1}{Z}e^{\\mu(x_1x_2+x_2x_3+ \\cdots +x_{d-1}x_d)}$$\n",
    "$$x_i = \\pm 1$$\n",
    "$$\\mu = 2$$\t\n",
    "$$d = 10$$\n",
    "$$M = \\frac{1}{d}(x_1 + x_2 + \\cdots + x_d)$$\n",
    "\n",
    "Perform Gibbs Sampling on this model and Plot the variation of total magnetization M of the individual samples obtained at each epoch over the iterations. Also, plot the histogram of the final approximated distribution."
   ]
  },
  {
   "cell_type": "code",
   "execution_count": 1,
   "metadata": {},
   "outputs": [],
   "source": [
    "import numpy as np\n",
    "import matplotlib.pyplot as plt\n",
    "\n",
    "%matplotlib inline\n"
   ]
  },
  {
   "cell_type": "markdown",
   "metadata": {},
   "source": [
    "Gibbs Sampling is a special case of Metropolis-Hastings algorithm where the proposal distribution is the conditional distribution of the variable of interest given the current state of all other variables. In this case, the conditional distribution of $x_i$ given all other variables is given by:\n",
    "\n",
    "$$P(x_i|x_1,x_2,\\cdots,x_{i-1},x_{i+1},\\cdots,x_d) = \\frac{1}{Z}e^{\\mu(x_{i-1}x_i+x_ix_{i+1})}$$\n",
    "\n",
    "The algorithm is as follows:\n",
    "1. Initialize $x_1,x_2,\\cdots,x_d$ randomly.\n",
    "2. For each epoch:\n",
    "\t1. For each $x_i$:\n",
    "\t\t1. Sample $x_i$ from $P(x_i|x_1,x_2,\\cdots,x_{i-1},x_{i+1},\\cdots,x_d)$\n",
    "\t2. Calculate $M$ and store it.\n",
    "3. Plot the variation of $M$ over the epochs.\n",
    "4. Plot the histogram of the final approximated distribution.\n",
    "\n",
    "Note: The number of epochs should be large enough to ensure that the distribution has converged."
   ]
  },
  {
   "cell_type": "code",
   "execution_count": null,
   "metadata": {},
   "outputs": [],
   "source": [
    "def plot_data(\n",
    "    X: np.ndarray, \n",
    "    y: np.ndarray,\n",
    "):\n",
    "    \"\"\"\n",
    "    Plots the data points X and y into a new figure. Plots the data\n",
    "    points with + for the positive examples and o for the negative examples.\n",
    "    X is assumed to be a Mx2 matrix.\n",
    "\n",
    "    Args:\n",
    "        X (np.ndarray): The dataset.\n",
    "        y (np.ndarray): The dataset labels.\n",
    "    \"\"\"\n",
    "\n",
    "    # Find Indices of Positive and Negative Examples\n",
    "    pos = y == 1\n",
    "    neg = y == 0\n",
    "    \n",
    "    # Plot Examples\n",
    "    plt.plot(X[pos, 0], X[pos, 1], 'k*', lw=2, ms=10)\n",
    "    plt.plot(X[neg, 0], X[neg, 1], 'ko', mfc='y', ms=8, mec='k', mew=1)\n",
    "    \n",
    "#END def plot_data\n"
   ]
  },
  {
   "cell_type": "code",
   "execution_count": null,
   "metadata": {},
   "outputs": [],
   "source": [
    "# Gibbs Sampling\n",
    "\n",
    "def gibbs_sampler(\n",
    "    \n"
   ]
  }
 ],
 "metadata": {
  "kernelspec": {
   "display_name": "env",
   "language": "python",
   "name": "python3"
  },
  "language_info": {
   "codemirror_mode": {
    "name": "ipython",
    "version": 3
   },
   "file_extension": ".py",
   "mimetype": "text/x-python",
   "name": "python",
   "nbconvert_exporter": "python",
   "pygments_lexer": "ipython3",
   "version": "3.10.11"
  }
 },
 "nbformat": 4,
 "nbformat_minor": 2
}
