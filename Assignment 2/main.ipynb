{
 "cells": [
  {
   "cell_type": "markdown",
   "metadata": {},
   "source": [
    "Given:\n",
    "$$x = \\{x_1,x_2,\\cdots,x_d\\}$$\n",
    "$$P(x) = \\frac{1}{Z}e^{\\mu(x_1x_2+x_2x_3+ \\cdots +x_{d-1}x_d)}$$\n",
    "$$x_i = \\pm 1$$\n",
    "$$\\mu = 2$$\t\n",
    "$$d = 10$$\n",
    "$$M = \\frac{1}{d}(x_1 + x_2 + \\cdots + x_d)$$\n",
    "\n",
    "Perform Gibbs Sampling on this model and Plot the variation of total magnetization M of the individual samples obtained at each epoch over the iterations. Also, plot the histogram of the final approximated distribution."
   ]
  },
  {
   "cell_type": "code",
   "execution_count": null,
   "metadata": {
    "vscode": {
     "languageId": "plaintext"
    }
   },
   "outputs": [],
   "source": [
    "import \n"
   ]
  }
 ],
 "metadata": {
  "language_info": {
   "name": "python"
  }
 },
 "nbformat": 4,
 "nbformat_minor": 2
}
