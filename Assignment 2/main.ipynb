{
 "cells": [
  {
   "cell_type": "markdown",
   "metadata": {},
   "source": [
    "Given:\n",
    "$$x = \\{x_1,x_2,\\cdots,x_d\\}$$\n",
    "$$P(x) = \\frac{1}{Z}e^{\\mu(x_1x_2+x_2x_3+ \\cdots +x_{d-1}x_d)}$$\n",
    "$$x_i = \\pm 1$$\n",
    "$$\\mu = 2$$\t\n",
    "$$d = 10$$\n",
    "$$M = \\frac{1}{d}(x_1 + x_2 + \\cdots + x_d)$$\n",
    "\n",
    "Perform Gibbs Sampling on this model and Plot the variation of total magnetization M of the individual samples obtained at each epoch over the iterations. Also, plot the histogram of the final approximated distribution."
   ]
  },
  {
   "cell_type": "code",
   "execution_count": 6,
   "metadata": {},
   "outputs": [],
   "source": [
    "import numpy as np\n",
    "import matplotlib.pyplot as plt\n",
    "\n",
    "%matplotlib inline\n",
    "\n",
    "np.random.seed(42)\n"
   ]
  },
  {
   "cell_type": "markdown",
   "metadata": {},
   "source": [
    "Gibbs Sampling is a special case of Metropolis-Hastings algorithm where the proposal distribution is the conditional distribution of the variable of interest given the current state of all other variables. In this case, the conditional distribution of $x_i$ given all other variables is given by:\n",
    "\n",
    "$$P(x_i|x_1,x_2,\\cdots,x_{i-1},x_{i+1},\\cdots,x_d) = \\frac{1}{Z}e^{\\mu(x_{i-1}x_i+x_ix_{i+1})}$$\n",
    "\n",
    "The algorithm is as follows:\n",
    "1. Initialize $x_1,x_2,\\cdots,x_d$ randomly.\n",
    "2. For each epoch:\n",
    "\t1. For each $x_i$:\n",
    "\t\t1. Sample $x_i$ from $P(x_i|x_1,x_2,\\cdots,x_{i-1},x_{i+1},\\cdots,x_d)$\n",
    "\t2. Calculate $M$ and store it.\n",
    "3. Plot the variation of $M$ over the epochs.\n",
    "4. Plot the histogram of the final approximated distribution.\n",
    "\n",
    "Note: The number of epochs should be large enough to ensure that the distribution has converged."
   ]
  },
  {
   "cell_type": "code",
   "execution_count": 7,
   "metadata": {},
   "outputs": [],
   "source": [
    "# Gibbs Sampling\n",
    "\n",
    "d = 10\n",
    "mu = 2\n",
    "\n",
    "\n",
    "def distribution(\n",
    "    x: np.ndarray,\n",
    ") -> float:\n",
    "    s = np.dot(x[:-1], x[1:])\n",
    "    return np.exp(mu * s)\n",
    "\n",
    "# END def distribution\n",
    "\n",
    "\n",
    "def Gibbs_Sampler(\n",
    "    x_init: np.ndarray,\n",
    "    n_iter: int,\n",
    ") -> np.ndarray:\n",
    "    x = x_init\n",
    "\n",
    "    X = np.zeros((n_iter, d))\n",
    "\n",
    "    for i in range(n_iter):\n",
    "        for j in range(d):\n",
    "            x[j] = -1\n",
    "            val_m1 = distribution(x)\n",
    "            x[j] = 1\n",
    "            val_p1 = distribution(x)\n",
    "            p = val_p1 / (val_m1 + val_p1)\n",
    "\n",
    "            if np.random.rand() < p:\n",
    "                x[j] = 1\n",
    "            else:\n",
    "                x[j] = -1\n",
    "            # END if\n",
    "\n",
    "        # END for j\n",
    "\n",
    "        X[i] = x\n",
    "    # END for i\n",
    "\n",
    "    return X\n",
    "\n",
    "# END def Gibbs_Sampler\n",
    "\n",
    "\n",
    "def init_x() -> np.ndarray:\n",
    "    return np.random.choice([-1, 1], d)\n"
   ]
  },
  {
   "cell_type": "code",
   "execution_count": 8,
   "metadata": {},
   "outputs": [],
   "source": [
    "def get_magnetization(\n",
    "    X: np.ndarray,\n",
    ") -> np.ndarray:\n",
    "    return np.mean(X, axis=1)\n"
   ]
  },
  {
   "cell_type": "code",
   "execution_count": 19,
   "metadata": {},
   "outputs": [
    {
     "name": "stdout",
     "output_type": "stream",
     "text": [
      "[ 1  1 -1 -1 -1 -1  1  1  1  1]\n",
      "[[ 1.  1.  1. ...  1.  1.  1.]\n",
      " [ 1.  1.  1. ...  1.  1.  1.]\n",
      " [-1.  1.  1. ...  1.  1.  1.]\n",
      " ...\n",
      " [ 1.  1.  1. ...  1.  1.  1.]\n",
      " [ 1.  1.  1. ...  1.  1.  1.]\n",
      " [ 1.  1.  1. ...  1.  1.  1.]]\n",
      "(1000000, 10)\n",
      "[0.4 1.  0.8 ... 1.  1.  1. ]\n",
      "(1000000,)\n"
     ]
    }
   ],
   "source": [
    "x_init = init_x()\n",
    "\n",
    "print(x_init)\n",
    "X = Gibbs_Sampler(x_init, 1000000)\n",
    "\n",
    "magnetization = get_magnetization(X)\n",
    "\n",
    "print(X)\n",
    "print(X.shape)\n",
    "print(magnetization)\n",
    "print(magnetization.shape)\n"
   ]
  },
  {
   "cell_type": "code",
   "execution_count": 20,
   "metadata": {},
   "outputs": [
    {
     "data": {
      "image/png": "[encoded data removed]",
      "text/plain": [
       "<Figure size 640x480 with 1 Axes>"
      ]
     },
     "metadata": {},
     "output_type": "display_data"
    }
   ],
   "source": [
    "# plot histogram of magnetization\n",
    "plt.hist(magnetization, bins=100)\n",
    "plt.xlabel(\"Magnetization\")\n",
    "plt.ylabel(\"Frequency\")\n",
    "plt.show()\n",
    "\n"
   ]
  }
 ],
 "metadata": {
  "kernelspec": {
   "display_name": "env",
   "language": "python",
   "name": "python3"
  },
  "language_info": {
   "codemirror_mode": {
    "name": "ipython",
    "version": 3
   },
   "file_extension": ".py",
   "mimetype": "text/x-python",
   "name": "python",
   "nbconvert_exporter": "python",
   "pygments_lexer": "ipython3",
   "version": "3.10.11"
  }
 },
 "nbformat": 4,
 "nbformat_minor": 2
}
